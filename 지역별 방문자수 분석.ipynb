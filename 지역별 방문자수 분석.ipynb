{
 "cells": [
  {
   "cell_type": "code",
   "execution_count": 1,
   "metadata": {},
   "outputs": [],
   "source": [
    "import pandas as pd\n",
    "import matplotlib.font_manager as fm\n",
    "import matplotlib.pyplot as plt\n",
    "%matplotlib inline\n",
    "import seaborn as sns"
   ]
  },
  {
   "cell_type": "code",
   "execution_count": 2,
   "metadata": {},
   "outputs": [],
   "source": [
    "df1 = pd.read_csv('./data/지역별 방문자수 비교_20210621 (1).csv')\n",
    "df2 = pd.read_csv('./data/지역별 방문자수 비교_20210621 (2).csv')\n",
    "df3 = pd.read_csv('./data/지역별 방문자수 비교_20210621 (3).csv')\n",
    "df4 = pd.read_csv('./data/지역별 방문자수 비교_20210621 (4).csv')\n"
   ]
  },
  {
   "cell_type": "code",
   "execution_count": 3,
   "metadata": {},
   "outputs": [
    {
     "data": {
      "text/html": [
       "<div>\n",
       "<style scoped>\n",
       "    .dataframe tbody tr th:only-of-type {\n",
       "        vertical-align: middle;\n",
       "    }\n",
       "\n",
       "    .dataframe tbody tr th {\n",
       "        vertical-align: top;\n",
       "    }\n",
       "\n",
       "    .dataframe thead th {\n",
       "        text-align: right;\n",
       "    }\n",
       "</style>\n",
       "<table border=\"1\" class=\"dataframe\">\n",
       "  <thead>\n",
       "    <tr style=\"text-align: right;\">\n",
       "      <th></th>\n",
       "      <th>년</th>\n",
       "      <th>월</th>\n",
       "      <th>광역지자체</th>\n",
       "      <th>현지인(a)</th>\n",
       "      <th>외지인(b)</th>\n",
       "      <th>외국인(c)</th>\n",
       "      <th>내국인(a+b)</th>\n",
       "      <th>외부방문자(b+c)</th>\n",
       "      <th>전체방문자(a+b+c)</th>\n",
       "    </tr>\n",
       "  </thead>\n",
       "  <tbody>\n",
       "    <tr>\n",
       "      <th>0</th>\n",
       "      <td>2019</td>\n",
       "      <td>1</td>\n",
       "      <td>서울특별시</td>\n",
       "      <td>130,981,176</td>\n",
       "      <td>49,167,240</td>\n",
       "      <td>1,881,982</td>\n",
       "      <td>180,148,416</td>\n",
       "      <td>51,049,223</td>\n",
       "      <td>182,030,398</td>\n",
       "    </tr>\n",
       "    <tr>\n",
       "      <th>1</th>\n",
       "      <td>2019</td>\n",
       "      <td>1</td>\n",
       "      <td>부산광역시</td>\n",
       "      <td>38,855,149</td>\n",
       "      <td>11,674,128</td>\n",
       "      <td>294,616</td>\n",
       "      <td>50,529,276</td>\n",
       "      <td>11,968,743</td>\n",
       "      <td>50,823,892</td>\n",
       "    </tr>\n",
       "    <tr>\n",
       "      <th>2</th>\n",
       "      <td>2019</td>\n",
       "      <td>1</td>\n",
       "      <td>대구광역시</td>\n",
       "      <td>35,297,808</td>\n",
       "      <td>8,475,849</td>\n",
       "      <td>56,553</td>\n",
       "      <td>43,773,657</td>\n",
       "      <td>8,532,401</td>\n",
       "      <td>43,830,209</td>\n",
       "    </tr>\n",
       "    <tr>\n",
       "      <th>3</th>\n",
       "      <td>2019</td>\n",
       "      <td>1</td>\n",
       "      <td>인천광역시</td>\n",
       "      <td>34,362,241</td>\n",
       "      <td>13,430,781</td>\n",
       "      <td>664,603</td>\n",
       "      <td>47,793,021</td>\n",
       "      <td>14,095,384</td>\n",
       "      <td>48,457,625</td>\n",
       "    </tr>\n",
       "    <tr>\n",
       "      <th>4</th>\n",
       "      <td>2019</td>\n",
       "      <td>1</td>\n",
       "      <td>광주광역시</td>\n",
       "      <td>22,031,391</td>\n",
       "      <td>5,140,044</td>\n",
       "      <td>25,293</td>\n",
       "      <td>27,171,435</td>\n",
       "      <td>5,165,337</td>\n",
       "      <td>27,196,728</td>\n",
       "    </tr>\n",
       "  </tbody>\n",
       "</table>\n",
       "</div>"
      ],
      "text/plain": [
       "      년  월  광역지자체       현지인(a)      외지인(b)     외국인(c)     내국인(a+b)  \\\n",
       "0  2019  1  서울특별시  130,981,176  49,167,240  1,881,982  180,148,416   \n",
       "1  2019  1  부산광역시   38,855,149  11,674,128    294,616   50,529,276   \n",
       "2  2019  1  대구광역시   35,297,808   8,475,849     56,553   43,773,657   \n",
       "3  2019  1  인천광역시   34,362,241  13,430,781    664,603   47,793,021   \n",
       "4  2019  1  광주광역시   22,031,391   5,140,044     25,293   27,171,435   \n",
       "\n",
       "   외부방문자(b+c) 전체방문자(a+b+c)  \n",
       "0  51,049,223  182,030,398  \n",
       "1  11,968,743   50,823,892  \n",
       "2   8,532,401   43,830,209  \n",
       "3  14,095,384   48,457,625  \n",
       "4   5,165,337   27,196,728  "
      ]
     },
     "execution_count": 3,
     "metadata": {},
     "output_type": "execute_result"
    }
   ],
   "source": [
    "df = pd.concat([df1,df2,df3,df4]).reset_index(drop=True)\n",
    "df.head()"
   ]
  },
  {
   "cell_type": "code",
   "execution_count": 4,
   "metadata": {},
   "outputs": [],
   "source": [
    "def string_to_numeric(d):\n",
    "    d = d.replace(',','')\n",
    "    return int(d)\n",
    "df[['현지인(a)','외지인(b)','외국인(c)','내국인(a+b)','외부방문자(b+c)','전체방문자(a+b+c)']] = df[['현지인(a)','외지인(b)','외국인(c)','내국인(a+b)','외부방문자(b+c)','전체방문자(a+b+c)']].applymap(string_to_numeric)"
   ]
  },
  {
   "cell_type": "code",
   "execution_count": 5,
   "metadata": {},
   "outputs": [],
   "source": [
    "sido_list = df['광역지자체'].unique()"
   ]
  },
  {
   "cell_type": "code",
   "execution_count": 6,
   "metadata": {},
   "outputs": [],
   "source": [
    "df = df.set_index(['년','월'])"
   ]
  },
  {
   "cell_type": "markdown",
   "metadata": {},
   "source": [
    "### 현지인의 증가가 눈에 띔\n",
    "#### 현지인의 2020 1,2월 기준 감소와 2021 2월 백신 이후의 증가\n",
    "#### 외지인의 감소가 일어남"
   ]
  },
  {
   "cell_type": "code",
   "execution_count": null,
   "metadata": {},
   "outputs": [],
   "source": [
    "plt.style.use(['seaborn-whitegrid'])\n",
    "plt.rcParams['font.family'] = 'Malgun Gothic'\n",
    "%config InlineBackend.figure_format = 'retina'\n",
    "fig, ax = plt.subplots(6,3)\n",
    "\n",
    "row, col =0,0\n",
    "for isido in df['광역지자체'].unique():\n",
    "    df[df['광역지자체']==isido][['현지인(a)']].plot.line(figsize=(15,25), title=isido, ax=ax[row][col], legend=False)\n",
    "    col+=1\n",
    "    if col==3:\n",
    "        col=0\n",
    "        row+=1\n",
    "plt.savefig('./results/local_visit.png', dpi=100)"
   ]
  },
  {
   "cell_type": "code",
   "execution_count": 8,
   "metadata": {},
   "outputs": [
    {
     "data": {
      "text/html": [
       "<img src=\"./results/local_visit.png\" />\n"
      ],
      "text/plain": [
       "<IPython.core.display.HTML object>"
      ]
     },
     "metadata": {},
     "output_type": "display_data"
    }
   ],
   "source": [
    "%%html\n",
    "<img src=\"./results/local_visit.png\" />"
   ]
  },
  {
   "cell_type": "code",
   "execution_count": null,
   "metadata": {},
   "outputs": [],
   "source": [
    "plt.style.use(['seaborn-whitegrid'])\n",
    "plt.rcParams['font.family'] = 'Malgun Gothic'\n",
    "%config InlineBackend.figure_format = 'retina'\n",
    "fig, ax = plt.subplots(6,3)\n",
    "\n",
    "row, col =0,0\n",
    "for isido in df['광역지자체'].unique():\n",
    "    df[df['광역지자체']==isido][['외지인(b)']].plot.line(figsize=(15,25), title=isido, ax=ax[row][col], legend=False)\n",
    "    col+=1\n",
    "    if col==3:\n",
    "        col=0\n",
    "        row+=1\n",
    "plt.savefig('./results/other_visit.png', dpi=100)"
   ]
  },
  {
   "cell_type": "code",
   "execution_count": 10,
   "metadata": {},
   "outputs": [
    {
     "data": {
      "text/html": [
       "<img src=\"./results/other_visit.png\" />\n"
      ],
      "text/plain": [
       "<IPython.core.display.HTML object>"
      ]
     },
     "metadata": {},
     "output_type": "display_data"
    }
   ],
   "source": [
    "%%html\n",
    "<img src=\"./results/other_visit.png\" />"
   ]
  },
  {
   "cell_type": "code",
   "execution_count": null,
   "metadata": {},
   "outputs": [],
   "source": [
    "plt.style.use(['seaborn-whitegrid'])\n",
    "plt.rcParams['font.family'] = 'Malgun Gothic'\n",
    "%config InlineBackend.figure_format = 'retina'\n",
    "fig, ax = plt.subplots(6,3)\n",
    "\n",
    "row, col =0,0\n",
    "for isido in df['광역지자체'].unique():\n",
    "    df[df['광역지자체']==isido][['전체방문자(a+b+c)']].plot.line(figsize=(15,25), title=isido, ax=ax[row][col], legend=False)\n",
    "    col+=1\n",
    "    if col==3:\n",
    "        col=0\n",
    "        row+=1\n",
    "plt.savefig('./results/all_visit.png', dpi=100)"
   ]
  },
  {
   "cell_type": "code",
   "execution_count": 12,
   "metadata": {},
   "outputs": [
    {
     "data": {
      "text/html": [
       "<img src=\"./results/all_visit.png\" />\n"
      ],
      "text/plain": [
       "<IPython.core.display.HTML object>"
      ]
     },
     "metadata": {},
     "output_type": "display_data"
    }
   ],
   "source": [
    "%%html\n",
    "<img src=\"./results/all_visit.png\" />"
   ]
  },
  {
   "cell_type": "code",
   "execution_count": null,
   "metadata": {},
   "outputs": [],
   "source": []
  }
 ],
 "metadata": {
  "kernelspec": {
   "display_name": "Python 3",
   "language": "python",
   "name": "python3"
  },
  "language_info": {
   "codemirror_mode": {
    "name": "ipython",
    "version": 3
   },
   "file_extension": ".py",
   "mimetype": "text/x-python",
   "name": "python",
   "nbconvert_exporter": "python",
   "pygments_lexer": "ipython3",
   "version": "3.7.6"
  }
 },
 "nbformat": 4,
 "nbformat_minor": 4
}
