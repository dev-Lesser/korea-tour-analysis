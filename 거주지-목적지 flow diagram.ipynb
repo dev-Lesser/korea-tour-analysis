{
 "cells": [
  {
   "cell_type": "code",
   "execution_count": 1,
   "metadata": {},
   "outputs": [],
   "source": [
    "import pandas as pd\n",
    "from ipysankeywidget import SankeyWidget\n",
    "from ipywidgets import Layout"
   ]
  },
  {
   "cell_type": "code",
   "execution_count": 2,
   "metadata": {},
   "outputs": [],
   "source": [
    "def string_to_numeric(d):\n",
    "    d = d.replace(',','')\n",
    "    return int(d)"
   ]
  },
  {
   "cell_type": "code",
   "execution_count": 3,
   "metadata": {},
   "outputs": [
    {
     "data": {
      "text/html": [
       "<div>\n",
       "<style scoped>\n",
       "    .dataframe tbody tr th:only-of-type {\n",
       "        vertical-align: middle;\n",
       "    }\n",
       "\n",
       "    .dataframe tbody tr th {\n",
       "        vertical-align: top;\n",
       "    }\n",
       "\n",
       "    .dataframe thead th {\n",
       "        text-align: right;\n",
       "    }\n",
       "</style>\n",
       "<table border=\"1\" class=\"dataframe\">\n",
       "  <thead>\n",
       "    <tr style=\"text-align: right;\">\n",
       "      <th></th>\n",
       "      <th>년</th>\n",
       "      <th>월</th>\n",
       "      <th>광역지자체</th>\n",
       "      <th>순위</th>\n",
       "      <th>광역지자체(거주지)</th>\n",
       "      <th>기초지자체(거주지)</th>\n",
       "      <th>방문자수</th>\n",
       "      <th>구성비(%)</th>\n",
       "    </tr>\n",
       "  </thead>\n",
       "  <tbody>\n",
       "    <tr>\n",
       "      <th>0</th>\n",
       "      <td>2019</td>\n",
       "      <td>1</td>\n",
       "      <td>대전광역시</td>\n",
       "      <td>1</td>\n",
       "      <td>대전광역시</td>\n",
       "      <td>서구</td>\n",
       "      <td>2,631,706</td>\n",
       "      <td>18.18</td>\n",
       "    </tr>\n",
       "    <tr>\n",
       "      <th>1</th>\n",
       "      <td>2019</td>\n",
       "      <td>1</td>\n",
       "      <td>대전광역시</td>\n",
       "      <td>2</td>\n",
       "      <td>대전광역시</td>\n",
       "      <td>유성구</td>\n",
       "      <td>1,814,610</td>\n",
       "      <td>12.54</td>\n",
       "    </tr>\n",
       "    <tr>\n",
       "      <th>2</th>\n",
       "      <td>2019</td>\n",
       "      <td>1</td>\n",
       "      <td>대전광역시</td>\n",
       "      <td>3</td>\n",
       "      <td>대전광역시</td>\n",
       "      <td>중구</td>\n",
       "      <td>1,431,070</td>\n",
       "      <td>9.89</td>\n",
       "    </tr>\n",
       "    <tr>\n",
       "      <th>3</th>\n",
       "      <td>2019</td>\n",
       "      <td>1</td>\n",
       "      <td>대전광역시</td>\n",
       "      <td>4</td>\n",
       "      <td>대전광역시</td>\n",
       "      <td>동구</td>\n",
       "      <td>1,428,840</td>\n",
       "      <td>9.87</td>\n",
       "    </tr>\n",
       "    <tr>\n",
       "      <th>4</th>\n",
       "      <td>2019</td>\n",
       "      <td>1</td>\n",
       "      <td>대전광역시</td>\n",
       "      <td>5</td>\n",
       "      <td>대전광역시</td>\n",
       "      <td>대덕구</td>\n",
       "      <td>1,162,417</td>\n",
       "      <td>8.03</td>\n",
       "    </tr>\n",
       "    <tr>\n",
       "      <th>...</th>\n",
       "      <td>...</td>\n",
       "      <td>...</td>\n",
       "      <td>...</td>\n",
       "      <td>...</td>\n",
       "      <td>...</td>\n",
       "      <td>...</td>\n",
       "      <td>...</td>\n",
       "      <td>...</td>\n",
       "    </tr>\n",
       "    <tr>\n",
       "      <th>9855</th>\n",
       "      <td>2021</td>\n",
       "      <td>5</td>\n",
       "      <td>제주특별자치도</td>\n",
       "      <td>16</td>\n",
       "      <td>대구광역시</td>\n",
       "      <td>수성구</td>\n",
       "      <td>69,920</td>\n",
       "      <td>0.92</td>\n",
       "    </tr>\n",
       "    <tr>\n",
       "      <th>9856</th>\n",
       "      <td>2021</td>\n",
       "      <td>5</td>\n",
       "      <td>제주특별자치도</td>\n",
       "      <td>17</td>\n",
       "      <td>서울특별시</td>\n",
       "      <td>동작구</td>\n",
       "      <td>69,843</td>\n",
       "      <td>0.92</td>\n",
       "    </tr>\n",
       "    <tr>\n",
       "      <th>9857</th>\n",
       "      <td>2021</td>\n",
       "      <td>5</td>\n",
       "      <td>제주특별자치도</td>\n",
       "      <td>18</td>\n",
       "      <td>경기도</td>\n",
       "      <td>용인시 기흥구</td>\n",
       "      <td>69,202</td>\n",
       "      <td>0.91</td>\n",
       "    </tr>\n",
       "    <tr>\n",
       "      <th>9858</th>\n",
       "      <td>2021</td>\n",
       "      <td>5</td>\n",
       "      <td>제주특별자치도</td>\n",
       "      <td>19</td>\n",
       "      <td>경기도</td>\n",
       "      <td>용인시 수지구</td>\n",
       "      <td>67,977</td>\n",
       "      <td>0.89</td>\n",
       "    </tr>\n",
       "    <tr>\n",
       "      <th>9859</th>\n",
       "      <td>2021</td>\n",
       "      <td>5</td>\n",
       "      <td>제주특별자치도</td>\n",
       "      <td>20</td>\n",
       "      <td>기타</td>\n",
       "      <td>기타</td>\n",
       "      <td>4,478,936</td>\n",
       "      <td>58.79</td>\n",
       "    </tr>\n",
       "  </tbody>\n",
       "</table>\n",
       "<p>9860 rows × 8 columns</p>\n",
       "</div>"
      ],
      "text/plain": [
       "         년  월    광역지자체  순위 광역지자체(거주지) 기초지자체(거주지)       방문자수  구성비(%)\n",
       "0     2019  1    대전광역시   1      대전광역시         서구  2,631,706   18.18\n",
       "1     2019  1    대전광역시   2      대전광역시        유성구  1,814,610   12.54\n",
       "2     2019  1    대전광역시   3      대전광역시         중구  1,431,070    9.89\n",
       "3     2019  1    대전광역시   4      대전광역시         동구  1,428,840    9.87\n",
       "4     2019  1    대전광역시   5      대전광역시        대덕구  1,162,417    8.03\n",
       "...    ... ..      ...  ..        ...        ...        ...     ...\n",
       "9855  2021  5  제주특별자치도  16      대구광역시        수성구     69,920    0.92\n",
       "9856  2021  5  제주특별자치도  17      서울특별시        동작구     69,843    0.92\n",
       "9857  2021  5  제주특별자치도  18        경기도    용인시 기흥구     69,202    0.91\n",
       "9858  2021  5  제주특별자치도  19        경기도    용인시 수지구     67,977    0.89\n",
       "9859  2021  5  제주특별자치도  20         기타         기타  4,478,936   58.79\n",
       "\n",
       "[9860 rows x 8 columns]"
      ]
     },
     "execution_count": 3,
     "metadata": {},
     "output_type": "execute_result"
    }
   ],
   "source": [
    "df1 = pd.read_csv('./data/지역별 방문자수 비교_20210621 (5).csv')\n",
    "df2 = pd.read_csv('./data/지역별 방문자수 비교_20210621 (6).csv')\n",
    "df3 = pd.read_csv('./data/지역별 방문자수 비교_20210621 (7).csv')\n",
    "df4 = pd.read_csv('./data/지역별 방문자수 비교_20210621 (8).csv')\n",
    "df = pd.concat([df1,df2,df3,df4]).reset_index(drop=True)\n",
    "df"
   ]
  },
  {
   "cell_type": "code",
   "execution_count": 4,
   "metadata": {},
   "outputs": [
    {
     "data": {
      "text/plain": [
       "80744132"
      ]
     },
     "execution_count": 4,
     "metadata": {},
     "output_type": "execute_result"
    }
   ],
   "source": [
    "df['방문자수'] = df[['방문자수']].applymap(string_to_numeric)\n",
    "df['방문자수'].max()"
   ]
  },
  {
   "cell_type": "code",
   "execution_count": 10,
   "metadata": {},
   "outputs": [
    {
     "data": {
      "text/plain": [
       "{'count': 1020.0,\n",
       " 'mean': 1254881.9588235293,\n",
       " 'std': 4577322.256081228,\n",
       " 'min': 10542.0,\n",
       " '25%': 134915.75,\n",
       " '50%': 335123.5,\n",
       " '75%': 1287144.75,\n",
       " 'max': 63402770.0}"
      ]
     },
     "execution_count": 10,
     "metadata": {},
     "output_type": "execute_result"
    }
   ],
   "source": [
    "df[(df['월']==2)].describe().to_dict()['방문자수']"
   ]
  },
  {
   "cell_type": "code",
   "execution_count": 5,
   "metadata": {},
   "outputs": [],
   "source": [
    "# 2월 기준 중위수\n",
    "def create_color(d):\n",
    "    value = d['value']\n",
    "    if value < df[(df['월']==2)].describe().to_dict()['방문자수']['25%']:\n",
    "        color = '#D4F1F4'\n",
    "    elif value < df[(df['월']==2)].describe().to_dict()['방문자수']['50%']:\n",
    "        color = '#75E6DA'\n",
    "    elif value < df[(df['월']==2)].describe().to_dict()['방문자수']['75%']:\n",
    "        color = '#189AB4'\n",
    "    else:\n",
    "        color= '#05445E'\n",
    "    return color"
   ]
  },
  {
   "cell_type": "markdown",
   "metadata": {},
   "source": [
    "### 2019, 2020, 2021년 2월 코로나 발생전, 후 , 백신 sankey"
   ]
  },
  {
   "cell_type": "raw",
   "metadata": {},
   "source": [
    "sankey diagram draw 및 저장, 시간 걸림"
   ]
  },
  {
   "cell_type": "code",
   "execution_count": null,
   "metadata": {},
   "outputs": [],
   "source": [
    "layout = Layout(width=\"800\", height=\"400\")\n",
    "links = []\n",
    "year=2019\n",
    "for idx, row in df[(df['년']==year)&(df['월']==2)].iterrows():\n",
    "    source = row['광역지자체(거주지)']\n",
    "    target = row['광역지자체']\n",
    "    value = row['방문자수']\n",
    "\n",
    "    tmp_dict = {'source': source, 'target':target, 'value': 0 }\n",
    "    tmp_dict['value'] += value\n",
    "    links.append(tmp_dict)\n",
    "tmp_df = pd.DataFrame(links).groupby(['source','target']).sum()\n",
    "tmp_df['color'] = tmp_df.apply(create_color, axis=1)\n",
    "result_links1 = tmp_df.reset_index().to_dict('records')\n",
    "\n",
    "w = SankeyWidget(layout=layout,links=result_links1, margins=dict(top=0, bottom=0, left=130, right=90))\n",
    "w.auto_save_png('{}-02.png'.format(year))"
   ]
  },
  {
   "cell_type": "code",
   "execution_count": null,
   "metadata": {},
   "outputs": [],
   "source": [
    "layout = Layout(width=\"800\", height=\"400\")\n",
    "links = []\n",
    "year=2020\n",
    "for idx, row in df[(df['년']==year)&(df['월']==2)].iterrows():\n",
    "    source = row['광역지자체(거주지)']\n",
    "    target = row['광역지자체']\n",
    "    value = row['방문자수']\n",
    "\n",
    "    tmp_dict = {'source': source, 'target':target, 'value': 0 }\n",
    "    tmp_dict['value'] += value\n",
    "    links.append(tmp_dict)\n",
    "tmp_df = pd.DataFrame(links).groupby(['source','target']).sum()\n",
    "tmp_df['color'] = tmp_df.apply(create_color, axis=1)\n",
    "result_links2 = tmp_df.reset_index().to_dict('records')\n",
    "\n",
    "w = SankeyWidget(layout=layout,links=result_links2, margins=dict(top=0, bottom=0, left=130, right=90))\n",
    "w.auto_save_png('{}-02.png'.format(year))"
   ]
  },
  {
   "cell_type": "code",
   "execution_count": null,
   "metadata": {},
   "outputs": [],
   "source": [
    "layout = Layout(width=\"800\", height=\"400\")\n",
    "links = []\n",
    "year=2021\n",
    "for idx, row in df[(df['년']==year)&(df['월']==2)].iterrows():\n",
    "    source = row['광역지자체(거주지)']\n",
    "    target = row['광역지자체']\n",
    "    value = row['방문자수']\n",
    "\n",
    "    tmp_dict = {'source': source, 'target':target, 'value': 0 }\n",
    "    tmp_dict['value'] += value\n",
    "    links.append(tmp_dict)\n",
    "tmp_df = pd.DataFrame(links).groupby(['source','target']).sum()\n",
    "tmp_df['color'] = tmp_df.apply(create_color, axis=1)\n",
    "result_links3 = tmp_df.reset_index().to_dict('records')\n",
    "\n",
    "w = SankeyWidget(layout=layout,links=result_links3, margins=dict(top=0, bottom=0, left=130, right=90))\n",
    "w.auto_save_png('{}-02.png'.format(year))"
   ]
  },
  {
   "cell_type": "code",
   "execution_count": 11,
   "metadata": {},
   "outputs": [
    {
     "data": {
      "text/html": [
       "<img src=\"2019-02.png\" />\n",
       "<img src=\"2020-02.png\" />\n",
       "<img src=\"2021-02.png\" />\n"
      ],
      "text/plain": [
       "<IPython.core.display.HTML object>"
      ]
     },
     "metadata": {},
     "output_type": "display_data"
    }
   ],
   "source": [
    "%%html\n",
    "<img src=\"2019-02.png\" />\n",
    "<img src=\"2020-02.png\" />\n",
    "<img src=\"2021-02.png\" />"
   ]
  },
  {
   "cell_type": "markdown",
   "metadata": {},
   "source": [
    "### 중위수별 값 카운트\n",
    "- 2019, 2020, 2021 년 2월에 집계된 중위수 카운트\n",
    "- 2019년 만큼은 아니더라도 방문자수가 2020년 대비 늚, 특히 3,4사분위수의 증가, 1분위수의 증가 -> 조금씩은 움직이는중"
   ]
  },
  {
   "cell_type": "code",
   "execution_count": 15,
   "metadata": {},
   "outputs": [],
   "source": [
    "tmp1 = pd.DataFrame(result_links1)['color'].value_counts()\n",
    "tmp2 = pd.DataFrame(result_links2)['color'].value_counts()\n",
    "tmp3 = pd.DataFrame(result_links3)['color'].value_counts()\n",
    "tmp = pd.concat([tmp1, tmp2, tmp3], axis=1)\n",
    "tmp.columns = [2019, 2020, 2021]"
   ]
  },
  {
   "cell_type": "code",
   "execution_count": 16,
   "metadata": {},
   "outputs": [
    {
     "data": {
      "text/plain": [
       "<matplotlib.axes._subplots.AxesSubplot at 0x1960ec4f048>"
      ]
     },
     "execution_count": 16,
     "metadata": {},
     "output_type": "execute_result"
    },
    {
     "data": {
      "image/png": "[encoded data removed]",
      "text/plain": [
       "<Figure size 504x288 with 1 Axes>"
      ]
     },
     "metadata": {
      "needs_background": "light"
     },
     "output_type": "display_data"
    }
   ],
   "source": [
    "tmp.plot.bar(figsize=(7,4))"
   ]
  },
  {
   "cell_type": "code",
   "execution_count": null,
   "metadata": {},
   "outputs": [],
   "source": []
  }
 ],
 "metadata": {
  "kernelspec": {
   "display_name": "Python 3",
   "language": "python",
   "name": "python3"
  },
  "language_info": {
   "codemirror_mode": {
    "name": "ipython",
    "version": 3
   },
   "file_extension": ".py",
   "mimetype": "text/x-python",
   "name": "python",
   "nbconvert_exporter": "python",
   "pygments_lexer": "ipython3",
   "version": "3.7.6"
  }
 },
 "nbformat": 4,
 "nbformat_minor": 4
}
