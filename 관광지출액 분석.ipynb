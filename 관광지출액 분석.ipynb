{
 "cells": [
  {
   "cell_type": "code",
   "execution_count": 1,
   "metadata": {},
   "outputs": [],
   "source": [
    "import pandas as pd\n",
    "import matplotlib.font_manager as fm\n",
    "import matplotlib.pyplot as plt\n",
    "%matplotlib inline\n",
    "import seaborn as sns\n",
    "plt.style.use(['seaborn-whitegrid'])\n",
    "plt.rcParams['font.family'] = 'Malgun Gothic'\n",
    "%config InlineBackend.figure_format = 'retina'"
   ]
  },
  {
   "cell_type": "code",
   "execution_count": 2,
   "metadata": {},
   "outputs": [],
   "source": [
    "def string_to_numeric(d):\n",
    "    d = d.replace(',','')\n",
    "    return int(d)"
   ]
  },
  {
   "cell_type": "code",
   "execution_count": 3,
   "metadata": {},
   "outputs": [],
   "source": [
    "df = pd.read_csv('./data/광역지자체 관광지출액_20210621.csv', header=1)"
   ]
  },
  {
   "cell_type": "code",
   "execution_count": 4,
   "metadata": {},
   "outputs": [],
   "source": [
    "new_header = [str(j)+'-'+str(i).zfill(2) for j in range(2019,2021) for i in range(1,13) ]+[str(2021)+'-'+str(i).zfill(2)  for i in range(1,6) ]"
   ]
  },
  {
   "cell_type": "code",
   "execution_count": 5,
   "metadata": {},
   "outputs": [
    {
     "data": {
      "text/plain": [
       "array(['전국', '서울특별시', '부산광역시', '대구광역시', '인천광역시', '광주광역시', '대전광역시',\n",
       "       '울산광역시', '세종특별자치시', '경기도', '강원도', '충청북도', '충청남도', '전라북도', '전라남도',\n",
       "       '경상북도', '경상남도', '제주특별자치도'], dtype=object)"
      ]
     },
     "execution_count": 5,
     "metadata": {},
     "output_type": "execute_result"
    }
   ],
   "source": [
    "sido_list = df['지역'].unique()\n",
    "sido_list"
   ]
  },
  {
   "cell_type": "code",
   "execution_count": 6,
   "metadata": {},
   "outputs": [],
   "source": [
    "df.columns = ['지역','구분']+new_header"
   ]
  },
  {
   "cell_type": "code",
   "execution_count": null,
   "metadata": {},
   "outputs": [],
   "source": [
    "# 숫자 변환\n",
    "df[new_header] = df[new_header].applymap(string_to_numeric)"
   ]
  },
  {
   "cell_type": "code",
   "execution_count": null,
   "metadata": {},
   "outputs": [],
   "source": [
    "plt.rcParams['font.family'] = 'Malgun Gothic'\n",
    "%config InlineBackend.figure_format = 'retina'\n",
    "fig, ax = plt.subplots(6,3)\n",
    "\n",
    "row, col =0,0\n",
    "    \n",
    "for i,isido in enumerate(sido_list):\n",
    "    df[(df['지역']==isido)&(df['구분']=='총소비')].plot.bar(figsize=(15,10), \n",
    "                                                     legend=False, \n",
    "                                                     title=isido+\"=총소비\", ax=ax[row][col], \n",
    "                                                    )\n",
    "    col+=1\n",
    "    if col==3:\n",
    "        col=0\n",
    "        row+=1\n",
    "\n",
    "plt.savefig('./results/all_consume.png', dpi=100)"
   ]
  },
  {
   "cell_type": "code",
   "execution_count": 1,
   "metadata": {},
   "outputs": [
    {
     "data": {
      "text/html": [
       "<img src=\"./results/all_consume.png\" />\n"
      ],
      "text/plain": [
       "<IPython.core.display.HTML object>"
      ]
     },
     "metadata": {},
     "output_type": "display_data"
    }
   ],
   "source": [
    "%%html\n",
    "<img src=\"./results/all_consume.png\" />"
   ]
  },
  {
   "cell_type": "code",
   "execution_count": null,
   "metadata": {},
   "outputs": [],
   "source": [
    "fig, ax = plt.subplots(6,3)\n",
    "\n",
    "row, col =0,0\n",
    "for i,isido in enumerate(sido_list):\n",
    "    df[(df['지역']==isido)&(df['구분']=='숙박업')].plot.bar(figsize=(15,10), \n",
    "                                                     legend=False, \n",
    "                                                     title=isido+\"=숙박업\",  ax=ax[row][col]\n",
    "                                                    )\n",
    "    col+=1\n",
    "    if col==3:\n",
    "        col=0\n",
    "        row+=1\n",
    "plt.savefig('./results/lodging_consume.png', dpi=100)"
   ]
  },
  {
   "cell_type": "code",
   "execution_count": 2,
   "metadata": {},
   "outputs": [
    {
     "data": {
      "text/html": [
       "<img src=\"./results/lodging_consume.png\" />\n"
      ],
      "text/plain": [
       "<IPython.core.display.HTML object>"
      ]
     },
     "metadata": {},
     "output_type": "display_data"
    }
   ],
   "source": [
    "%%html\n",
    "<img src=\"./results/lodging_consume.png\" />"
   ]
  },
  {
   "cell_type": "markdown",
   "metadata": {},
   "source": [
    "### 전국 여행업은 다 죽었다, 서울이 특히 > 외국인 \n",
    "#### 제주도의 경우에 2020년 동기 기준 오름"
   ]
  },
  {
   "cell_type": "raw",
   "metadata": {},
   "source": [
    "fig, ax = plt.subplots(6,3)\n",
    "\n",
    "row, col =0,0\n",
    "for i,isido in enumerate(sido_list):\n",
    "    try:\n",
    "        df[(df['지역']==isido)&(df['구분']=='여행업')].plot.bar(figsize=(15,10), \n",
    "                                                         legend=False, \n",
    "                                                         title=isido+\"=여행업\",  ax=ax[row][col]\n",
    "                                                        )\n",
    "    except Exception:\n",
    "        pass\n",
    "    col+=1\n",
    "    if col==3:\n",
    "        col=0\n",
    "        row+=1\n",
    "plt.savefig('./results/travel_consume.png', dpi=100)"
   ]
  },
  {
   "cell_type": "code",
   "execution_count": 3,
   "metadata": {},
   "outputs": [
    {
     "data": {
      "text/html": [
       "<img src=\"./results/travel_consume.png\" />\n"
      ],
      "text/plain": [
       "<IPython.core.display.HTML object>"
      ]
     },
     "metadata": {},
     "output_type": "display_data"
    }
   ],
   "source": [
    "%%html\n",
    "<img src=\"./results/travel_consume.png\" />"
   ]
  },
  {
   "cell_type": "code",
   "execution_count": 12,
   "metadata": {},
   "outputs": [
    {
     "data": {
      "text/plain": [
       "<matplotlib.axes._subplots.AxesSubplot at 0x160227bea88>"
      ]
     },
     "execution_count": 12,
     "metadata": {},
     "output_type": "execute_result"
    },
    {
     "data": {
      "image/png": "[encoded data removed]",
      "text/plain": [
       "<Figure size 504x288 with 1 Axes>"
      ]
     },
     "metadata": {
      "image/png": {
       "height": 288,
       "width": 414
      }
     },
     "output_type": "display_data"
    }
   ],
   "source": [
    "df[(df['지역']=='제주특별자치도')&(df['구분']=='여행업')][df.columns[14:]].T.plot.bar(figsize=(7,4), \n",
    "                                                         legend=False, \n",
    "                                                         title=isido+\"=숙박업\"\n",
    "                                                        )\n",
    "# 4월 5월 동기기준 여행업 소비가 많아짐"
   ]
  },
  {
   "cell_type": "markdown",
   "metadata": {},
   "source": [
    "## 전국 렌터카 지출이 증가 > 경기도"
   ]
  },
  {
   "cell_type": "code",
   "execution_count": null,
   "metadata": {},
   "outputs": [],
   "source": [
    "fig, ax = plt.subplots(6,3)\n",
    "\n",
    "row, col =0,0\n",
    "for i,isido in enumerate(sido_list):\n",
    "    try:\n",
    "        df[(df['지역']==isido)&(df['구분']=='렌터카')].plot.bar(figsize=(15,15), \n",
    "                                                         legend=False, \n",
    "                                                         title=isido+\"=렌터카\",  ax=ax[row][col]\n",
    "                                                        )\n",
    "    except Exception:\n",
    "        pass\n",
    "    col+=1\n",
    "    if col==3:\n",
    "        col=0\n",
    "        row+=1\n",
    "plt.savefig('./results/rentcar_consume.png', dpi=100)"
   ]
  },
  {
   "cell_type": "code",
   "execution_count": 4,
   "metadata": {},
   "outputs": [
    {
     "data": {
      "text/html": [
       "<img src=\"./results/rentcar_consume.png\" />\n"
      ],
      "text/plain": [
       "<IPython.core.display.HTML object>"
      ]
     },
     "metadata": {},
     "output_type": "display_data"
    }
   ],
   "source": [
    "%%html\n",
    "<img src=\"./results/rentcar_consume.png\" />"
   ]
  },
  {
   "cell_type": "code",
   "execution_count": 14,
   "metadata": {},
   "outputs": [
    {
     "data": {
      "text/plain": [
       "<matplotlib.axes._subplots.AxesSubplot at 0x16021e5a888>"
      ]
     },
     "execution_count": 14,
     "metadata": {},
     "output_type": "execute_result"
    },
    {
     "data": {
      "image/png": "[encoded data removed]",
      "text/plain": [
       "<Figure size 504x288 with 1 Axes>"
      ]
     },
     "metadata": {
      "image/png": {
       "height": 288,
       "width": 427
      }
     },
     "output_type": "display_data"
    }
   ],
   "source": [
    "# 제주도 렌터카 관광이 작년 동기대비 증가\n",
    "df[(df['지역']=='제주특별자치도')&(df['구분']=='렌터카')][df.columns[14:]].T.plot.bar(figsize=(7,4), \n",
    "                                                 legend=True, \n",
    "                                                 title=isido+\"=렌터카\", \n",
    "                                                )\n",
    "\n"
   ]
  },
  {
   "cell_type": "code",
   "execution_count": null,
   "metadata": {},
   "outputs": [],
   "source": [
    "fig, ax = plt.subplots(6,3)\n",
    "\n",
    "row, col =0,0\n",
    "for i,isido in enumerate(sido_list):\n",
    "    try:\n",
    "        df[(df['지역']==isido)&(df['구분']=='레저스포츠')][df.columns[14:]].plot.bar(figsize=(15,15), \n",
    "                                                         legend=False, \n",
    "                                                         title=isido+\"=레저스포츠\",  ax=ax[row][col]\n",
    "                                                        )\n",
    "    except Exception:\n",
    "        pass\n",
    "    col+=1\n",
    "    if col==3:\n",
    "        col=0\n",
    "        row+=1\n",
    "plt.savefig('./results/leisure_consume.png', dpi=100)"
   ]
  },
  {
   "cell_type": "code",
   "execution_count": 5,
   "metadata": {},
   "outputs": [
    {
     "data": {
      "text/html": [
       "<img src=\"./results/leisure_consume.png\" />\n"
      ],
      "text/plain": [
       "<IPython.core.display.HTML object>"
      ]
     },
     "metadata": {},
     "output_type": "display_data"
    }
   ],
   "source": [
    "%%html\n",
    "<img src=\"./results/leisure_consume.png\" />"
   ]
  },
  {
   "cell_type": "code",
   "execution_count": null,
   "metadata": {},
   "outputs": [],
   "source": [
    "fig, ax = plt.subplots(6,3)\n",
    "\n",
    "row, col =0,0\n",
    "for i,isido in enumerate(sido_list):\n",
    "    try:\n",
    "        df[(df['지역']==isido)&(df['구분']=='문화서비스')].plot.bar(figsize=(15,10), \n",
    "                                                         legend=False, \n",
    "                                                         title=isido+\"=문화서비스\",  ax=ax[row][col]\n",
    "                                                        )\n",
    "    except Exception:\n",
    "        pass\n",
    "    col+=1\n",
    "    if col==3:\n",
    "        col=0\n",
    "        row+=1\n",
    "plt.savefig('./results/culture_service_consume.png', dpi=100)"
   ]
  },
  {
   "cell_type": "code",
   "execution_count": 6,
   "metadata": {},
   "outputs": [
    {
     "data": {
      "text/html": [
       "<img src=\"./results/culture_service_consume.png\" />\n"
      ],
      "text/plain": [
       "<IPython.core.display.HTML object>"
      ]
     },
     "metadata": {},
     "output_type": "display_data"
    }
   ],
   "source": [
    "%%html\n",
    "<img src=\"./results/culture_service_consume.png\" />"
   ]
  },
  {
   "cell_type": "code",
   "execution_count": null,
   "metadata": {},
   "outputs": [],
   "source": []
  }
 ],
 "metadata": {
  "kernelspec": {
   "display_name": "Python 3",
   "language": "python",
   "name": "python3"
  },
  "language_info": {
   "codemirror_mode": {
    "name": "ipython",
    "version": 3
   },
   "file_extension": ".py",
   "mimetype": "text/x-python",
   "name": "python",
   "nbconvert_exporter": "python",
   "pygments_lexer": "ipython3",
   "version": "3.7.6"
  }
 },
 "nbformat": 4,
 "nbformat_minor": 4
}
